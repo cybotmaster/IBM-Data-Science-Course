{
 "cells": [
  {
   "cell_type": "markdown",
   "metadata": {},
   "source": [
    "## **Title: Learning Data Science :)**"
   ]
  },
  {
   "cell_type": "markdown",
   "metadata": {},
   "source": [
    "### **Based on the videos and the reading material, how would you define a data scientist and data science?** \n",
    "### **(3 marks)**"
   ]
  },
  {
   "cell_type": "markdown",
   "metadata": {},
   "source": [
    "Data science uses algorithms, processes, scientific methods and systems to obtain information and insights from many sources of data. It is related to data mining, deep learning and big data. \n",
    "Data scientists are analytical data experts who have the means and skills to solve complex problems, while exploring problems that need to be solved. They wear many hats, as they require skills from Math, computer science etc. "
   ]
  },
  {
   "cell_type": "markdown",
   "metadata": {},
   "source": [
    "### **As discussed in the videos and the reading material, data science can be applied to problems across different industries. What industry are you passionate about and would like to pursue a data science career in?** \n",
    "### **(1 mark)**"
   ]
  },
  {
   "cell_type": "markdown",
   "metadata": {},
   "source": [
    "I am studying Environmental Engineering and would like to make use of data science to handle the data that can be derived from water and wastewater treatment plants and do some data analytics and statistics to predict trends. "
   ]
  },
  {
   "cell_type": "markdown",
   "metadata": {},
   "source": [
    "### **Based on the videos and the reading material, what are the ten main components of a report that would be delivered at the end of a data science project?** \n",
    "### **(5 marks)**"
   ]
  },
  {
   "cell_type": "markdown",
   "metadata": {},
   "source": [
    "- Cover/front page\n",
    "- Content page\n",
    "- Introduction\n",
    "- Literature review\n",
    "- Methodology\n",
    "- Results\n",
    "- Discussion\n",
    "- Conclusion\n",
    "- References\n",
    "- Appendices"
   ]
  },
  {
   "cell_type": "code",
   "execution_count": null,
   "metadata": {},
   "outputs": [],
   "source": []
  }
 ],
 "metadata": {
  "kernelspec": {
   "display_name": "Python 3",
   "language": "python",
   "name": "python3"
  },
  "language_info": {
   "codemirror_mode": {
    "name": "ipython",
    "version": 3
   },
   "file_extension": ".py",
   "mimetype": "text/x-python",
   "name": "python",
   "nbconvert_exporter": "python",
   "pygments_lexer": "ipython3",
   "version": "3.7.6"
  }
 },
 "nbformat": 4,
 "nbformat_minor": 4
}
