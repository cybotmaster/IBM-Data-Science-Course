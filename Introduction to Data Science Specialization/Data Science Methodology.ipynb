{
 "cells": [
  {
   "cell_type": "markdown",
   "metadata": {},
   "source": [
    "## **Title: Spotting Fraudulent Credit Card Transactions**"
   ]
  },
  {
   "cell_type": "markdown",
   "metadata": {},
   "source": [
    "### **Which topic did you choose to apply the data science methodology to?** \n",
    "### **(2 marks)**"
   ]
  },
  {
   "cell_type": "markdown",
   "metadata": {},
   "source": [
    "I would like to pick the topic of credit cards. This is because credit cards have been widely used. According to a report by Markets Insider in May 2020 (website link below), in recent years, there are more reports on fraudulent credit card transactions which can cost billion of dollars to cardholders, banks, and businesses. Fraud culprits are making use of different methods to steal credit card information. Hence, it will be important to spot fraudulent credit card transactions as soon as the transactions occur, so as to minimise damages to all stakeholders. \n",
    "\n",
    "Reference: <br> \n",
    "https://markets.businessinsider.com/news/stocks/credit-card-account-fraud-skyrockets-coronavirus-pandemic-recession-economy-layoffs-2020-5-1029246107"
   ]
  },
  {
   "cell_type": "markdown",
   "metadata": {},
   "source": [
    "### **Next, you will play the role of the client and the data scientist.** <br>\n",
    "### **Using the topic that you selected, complete the Business Understanding stage by coming up with a problem that you would like to solve and phrasing it in the form of a question that you will use data to answer.** <br>\n",
    "\n",
    "### **(3 marks)** <br>\n",
    "\n",
    "#### **You are required to:** <br>\n",
    "\n",
    "1. Describe the problem, related to the topic you selected.\n",
    "2. Phrase the problem as a question to be answered using data. \n",
    "<br>\n",
    "\n",
    "**For example, using the food recipes use case discussed in the labs, the question that we defined was, \"Can we automatically determine the cuisine of a given dish based on its ingredients?\"**"
   ]
  },
  {
   "cell_type": "markdown",
   "metadata": {},
   "source": [
    "1. In the use of credit cards, there is a possibility of fraudulent transactions occurring. This possibility has gained transactions in recent years as more and more people are using credit cards in their daily lives. However, there are some issues in identifying these fraudulent transactions. For example, most people only found that they fell victim to these frauds when they check their bank account balance. There is a need to uncover these frauds as soon as suspicious transactions are detected. \n",
    "2. \"How do we find out if the credit cards have been compromised and fall victim to frauds?\""
   ]
  },
  {
   "cell_type": "markdown",
   "metadata": {},
   "source": [
    "### Briefly explain how you would complete each of the following stages for the problem that you described in the Business Understanding stage, so that you are ultimately able to answer the question that you came up with.  \n",
    "### **(5 marks):** <br>\n",
    "\n",
    "1. Analytic Approach\n",
    "2. Data Requirements\n",
    "3. Data Collection\n",
    "4. Data Understanding and Preparation\n",
    "5. Modeling and Evaluation\n",
    "#### You can always refer to the labs as a reference with describing how you would complete each stage for your problem."
   ]
  },
  {
   "cell_type": "markdown",
   "metadata": {},
   "source": [
    "Analytic Approach: This problem requires us to classify each transaction into 2 categories: non-fraudulent and fraudulent. Therefore, we will need to use a classification technique.\n",
    "\n",
    "Data Requirements: In order to understand each transaction properly, it would be paramount to find out past transactions and sieve out those transactions that are fraudulent. Other information such as location of the transaction and the mode of transaction (NFC (near-field communication), physical card) etc.\n",
    "\n",
    "Data Collection: We will need to understand how the transaction data is stored and the time period of each data entry.We will need to know if the transaction data is accessible and if there are any restrictions pertaining to each dataset. It will be good to use descriptive statistics and data evaluation. This is to ensure that there will be useful data for the model.\n",
    "\n",
    "Data Understanding and Preparation: Here, we will need to evaluate the different variables/parameters of the data in order to better understand the transactions. A visualisation plot can be done to understand the data. For example, correlation can be checked back with the fraud transaction entry and the location of the transaction.\n",
    "\n",
    "Modeling and Evaluation: Lastly, we can create a classification model and evaluate the outcome. We have to make changes accordingly until we get a suitable model. In this problem, we can evaluate using: (1) accuracy of the model, (2) confusion matrix and possibly (3) level of type 1/type 2 errors."
   ]
  }
 ],
 "metadata": {
  "kernelspec": {
   "display_name": "Python 3",
   "language": "python",
   "name": "python3"
  },
  "language_info": {
   "codemirror_mode": {
    "name": "ipython",
    "version": 3
   },
   "file_extension": ".py",
   "mimetype": "text/x-python",
   "name": "python",
   "nbconvert_exporter": "python",
   "pygments_lexer": "ipython3",
   "version": "3.7.6"
  }
 },
 "nbformat": 4,
 "nbformat_minor": 4
}
